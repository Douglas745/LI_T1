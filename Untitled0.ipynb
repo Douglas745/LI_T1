{
  "nbformat": 4,
  "nbformat_minor": 0,
  "metadata": {
    "colab": {
      "provenance": [],
      "authorship_tag": "ABX9TyOIFtTKWv59bXII+ZbunKL8",
      "include_colab_link": true
    },
    "kernelspec": {
      "name": "python3",
      "display_name": "Python 3"
    },
    "language_info": {
      "name": "python"
    }
  },
  "cells": [
    {
      "cell_type": "markdown",
      "metadata": {
        "id": "view-in-github",
        "colab_type": "text"
      },
      "source": [
        "<a href=\"https://colab.research.google.com/github/Douglas745/LI_T1/blob/main/Untitled0.ipynb\" target=\"_parent\"><img src=\"https://colab.research.google.com/assets/colab-badge.svg\" alt=\"Open In Colab\"/></a>"
      ]
    },
    {
      "cell_type": "code",
      "source": [
        "# Instala a biblioteca googlesearch-python\n",
        "#!pip install google\n",
        "\n",
        "# Importa a classe search da biblioteca googlesearch\n",
        "from googlesearch import search\n",
        "\n",
        "# Termo de pesquisa\n",
        "termo_pesquisa = \"botafogo lider\"\n",
        "\n",
        "# Realiza a pesquisa no Google e armazena os resultados\n",
        "resultados = search(termo_pesquisa, num=6, stop=6, pause=2)\n",
        "\n",
        "# Exibe os tópicos correlatos e sinônimos encontrados nos resultados da pesquisa\n",
        "print(\"Tópicos correlatos e sinônimos para o termo de pesquisa '\" + termo_pesquisa + \"':\")\n",
        "for idx, resultado in enumerate(resultados):\n",
        "    print(f\"{idx + 1}. {resultado}\")"
      ],
      "metadata": {
        "colab": {
          "base_uri": "https://localhost:8080/"
        },
        "id": "CKpzO0V3CZSi",
        "outputId": "08a5847f-e9d2-45b4-cefa-827bdeceeb16"
      },
      "execution_count": 1,
      "outputs": [
        {
          "output_type": "stream",
          "name": "stdout",
          "text": [
            "Tópicos correlatos e sinônimos para o termo de pesquisa 'botafogo lider':\n",
            "1. https://folhadolitoral.com.br/en/editorias/botafogo-lider-2/\n",
            "2. https://www.goal.com/br/listas/Botafogo-rodadas-lideranca-brasileirao-serie-a-historia/blt33ebdf198ed4359b\n",
            "3. https://en.wikipedia.org/wiki/Botafogo_de_Futebol_e_Regatas\n",
            "4. https://en.wikipedia.org/wiki/2024_Botafogo_de_Futebol_e_Regatas_season\n",
            "5. https://en.wikipedia.org/wiki/Artur_Jorge_(footballer,_born_1972)\n",
            "6. https://en.wikipedia.org/wiki/Tch%C3%AA_Tch%C3%AA\n"
          ]
        }
      ]
    }
  ]
}